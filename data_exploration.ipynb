{
 "cells": [
  {
   "cell_type": "code",
   "execution_count": 1,
   "metadata": {},
   "outputs": [],
   "source": [
    "#import dependencies\n",
    "import warnings\n",
    "warnings.filterwarnings('ignore')\n",
    "import pandas as pd\n",
    "import numpy as np\n",
    "import sqlalchemy\n",
    "from sqlalchemy.ext.automap import automap_base\n",
    "from sqlalchemy.orm import Session\n",
    "from sqlalchemy import create_engine, func, inspect, Column, Integer, String, Float\n",
    "from sqlalchemy.ext.declarative import declarative_base\n",
    "import sqlite3\n",
    "Base = declarative_base()"
   ]
  },
  {
   "cell_type": "code",
   "execution_count": 2,
   "metadata": {},
   "outputs": [],
   "source": [
    "# Load CSV Files\n",
    "\n",
    "# sources: https://www.kaggle.com/heesoo37/120-years-of-olympic-history-athletes-and-results/data#\n",
    "# Data starts in 1896\n",
    "events_file = 'Resources/athlete_events.csv'\n",
    "df_events_orig = pd.read_csv(events_file)\n",
    "\n",
    "# source: World Bank (https://databank.worldbank.org/reports.aspx?source=2&series=NY.GDP.MKTP.CD&country=#) \n",
    "# Data starts in 1960\n",
    "pop_gdp_file = 'Resources/population_gdp.csv'\n",
    "df_pop_gdp_orig = pd.read_csv(pop_gdp_file)"
   ]
  },
  {
   "cell_type": "markdown",
   "metadata": {},
   "source": [
    "<h3> Clean Worldbank data"
   ]
  },
  {
   "cell_type": "code",
   "execution_count": 3,
   "metadata": {},
   "outputs": [],
   "source": [
    "# step 1 - rename columns\n",
    "df_pop_gdp = df_pop_gdp_orig\n",
    "df_pop_gdp = df_pop_gdp.drop(columns = ['Series Code'], axis =1)\n",
    "df_pop_gdp = df_pop_gdp.rename(\n",
    "    columns={\n",
    "        \"Series Name\": \"Series\", \n",
    "        \"Country Name\": \"Country\",\n",
    "        \"Country Code\": \"NOC\"})\n",
    "\n",
    "df_pop_gdp.columns = df_pop_gdp.columns.str.split(' ').str[0].tolist()\n",
    "\n",
    "keep_columns = ['Series', 'Country', 'NOC']\n",
    "event_years = df_events_orig.Year.unique().astype(str)\n",
    "\n",
    "for i in event_years:\n",
    "    keep_columns.append(i)\n",
    "\n",
    "df_pop_gdp = df_pop_gdp[df_pop_gdp.columns.intersection(keep_columns)]"
   ]
  },
  {
   "cell_type": "code",
   "execution_count": 4,
   "metadata": {},
   "outputs": [],
   "source": [
    "# step 2 - filter by GDP and Population series_names\n",
    "df_pop_gdp_1 = df_pop_gdp.loc[(df_pop_gdp[\"Series\"] == \"GDP (current US$)\") | (df_pop_gdp[\"Series\"] == \"Population, total\")]\n",
    "df_pop_gdp_2 = df_pop_gdp_1.melt(id_vars=['Series', 'Country', 'NOC'])\n",
    "df_pop_gdp_2 = df_pop_gdp_2.rename(columns={'variable':'Year'})"
   ]
  },
  {
   "cell_type": "code",
   "execution_count": 5,
   "metadata": {},
   "outputs": [],
   "source": [
    "# step 3 - Reformat the table\n",
    "df_pop_gdp_final = df_pop_gdp_2.pivot_table(index=['Year','NOC','Country'], values = 'value', columns='Series', aggfunc='sum')\n",
    "df_pop_gdp_final = df_pop_gdp_final.reset_index()\n",
    "df_pop_gdp_final = df_pop_gdp_final.rename(columns = {'GDP (current US$)': 'GDP', 'Population, total': 'Population'})\n",
    "df_pop_gdp_final['Population'] = np.where(df_pop_gdp_final['Population'] == '..', 0, df_pop_gdp_final['Population'])\n",
    "df_pop_gdp_final['GDP'] = np.where(df_pop_gdp_final['GDP'] == '..', 0, df_pop_gdp_final['GDP'])\n",
    "df_pop_gdp_final = df_pop_gdp_final.astype({'GDP': 'float64', 'Year': 'int64', 'Population': 'int64'})\n",
    "df_pop_gdp_final['GDP_per_capita'] = df_pop_gdp_final['GDP'] / df_pop_gdp_final['Population']"
   ]
  },
  {
   "cell_type": "markdown",
   "metadata": {},
   "source": [
    "<h3> Clean Olympic Events"
   ]
  },
  {
   "cell_type": "code",
   "execution_count": 6,
   "metadata": {
    "scrolled": true
   },
   "outputs": [],
   "source": [
    "# step 1 - define df_events dataframe\n",
    "df_events = df_events_orig"
   ]
  },
  {
   "cell_type": "code",
   "execution_count": 7,
   "metadata": {},
   "outputs": [],
   "source": [
    "# step 2 - clean NOC (in df_events) based on worldbank NOC to match each other\n",
    "\n",
    "# extract WorldBank's NOC (Country code) and Country (name)\n",
    "df_worldbanknames = pd.DataFrame(df_pop_gdp_final.groupby(['NOC','Country']).size().reset_index())\n",
    "df_worldbanknames = df_worldbanknames.drop(columns=[0])\n",
    "\n",
    "# create a column with stripped country_name and sanitize\n",
    "df_worldbanknames['Wclean'] = df_worldbanknames ['Country'].str.replace(\" \", \"\").str.lower()\n",
    "\n",
    "# create a column with stripped Team name in Olympic Data and sanitize\n",
    "df_events['Oclean'] = df_events ['Team'].str.replace(\" \", \"\").str.lower()\n",
    "\n",
    "# Unique transformations of countries that are in both data bases, but didn't match up.\n",
    "df_events['NOC'] = df_events['NOC'].str.replace(\"IRI\", \"IRN\")\n",
    "df_events['NOC'] = df_events['NOC'].str.replace(\"GER\", \"DEU\")\n",
    "df_events['NOC'] = df_events['NOC'].str.replace(\"BAH\", \"BHS\")\n",
    "df_events['NOC'] = df_events['NOC'].str.replace(\"SUI\", \"CHE\")\n",
    "df_events['NOC'] = df_events['NOC'].str.replace(\"ISV\", \"VIR\")\n",
    "df_events['NOC'] = df_events['NOC'].str.replace(\"GRE\", \"GRC\")\n",
    "df_events['NOC'] = df_events['NOC'].str.replace(\"DEN\", \"DNK\")\n",
    "df_events['NOC'] = df_events['NOC'].str.replace(\"NED\", \"NLD\")\n",
    "df_events['NOC'] = df_events['NOC'].str.replace(\"CGO\", \"COG\")\n",
    "df_events['NOC'] = df_events['NOC'].str.replace(\"LAT\", \"LVA\")\n",
    "df_events['NOC'] = df_events['NOC'].str.replace(\"INA\", \"IDN\")\n",
    "df_events['NOC'] = df_events['NOC'].str.replace(\"GAM\", \"GMB\")\n",
    "df_events['NOC'] = df_events['NOC'].str.replace(\"GBS\", \"GNB\")\n",
    "df_events['NOC'] = df_events['NOC'].str.replace(\"MAS\", \"MYS\")\n",
    "df_events['NOC'] = df_events['NOC'].str.replace(\"NGR\", \"NGA\")\n",
    "df_events['NOC'] = df_events['NOC'].str.replace(\"VIN\", \"VCT\")\n",
    "df_events['NOC'] = df_events['NOC'].str.replace(\"BRU\", \"BRN\")\n",
    "df_events['NOC'] = df_events['NOC'].str.replace(\"SLO\", \"SVN\")\n",
    "df_events['NOC'] = df_events['NOC'].str.replace(\"MRI\", \"MUS\")\n",
    "df_events['NOC'] = df_events['NOC'].str.replace(\"BUL\", \"BGR\")\n",
    "df_events['NOC'] = df_events['NOC'].str.replace(\"PUR\", \"PRI\")\n",
    "df_events['NOC'] = df_events['NOC'].str.replace(\"MON\", \"MCO\")\n",
    "df_events['NOC'] = df_events['NOC'].str.replace(\"SKN\", \"KNA\")\n",
    "df_events['NOC'] = df_events['NOC'].str.replace(\"POR\", \"PRT\")\n",
    "\n",
    "# merge by stripped country names and make sure Olympic Data NOC matches WorldBank country_code\n",
    "df_events = pd.merge(df_events, df_worldbanknames, how=\"left\", left_on='Oclean', right_on = 'Wclean', suffixes=('', '_y'))\n",
    "df_events['NOC'] = np.where(df_events['NOC_y'].isnull(), df_events['NOC'], df_events['NOC_y'])\n",
    "\n",
    "# drop unncessary columns from the merge\n",
    "df_events = df_events.drop(columns = ['Oclean', 'NOC_y', 'Wclean'], axis = 1)"
   ]
  },
  {
   "cell_type": "code",
   "execution_count": 8,
   "metadata": {},
   "outputs": [],
   "source": [
    "#  step 3 - clean Country names based on the NOC (for small teams with Country NOCs)\n",
    "df_events = pd.merge(df_events, df_worldbanknames, how=\"left\", left_on='NOC', right_on = 'NOC', suffixes=('', '_y'))\n",
    "df_events['Country'] = np.where(df_events['Country'].isnull(), df_events['Country_y'], df_events['Country'])\n",
    "# drop unncessary columns from the merge\n",
    "df_events = df_events.drop(columns = ['Country_y', 'Wclean'], axis = 1)"
   ]
  },
  {
   "cell_type": "code",
   "execution_count": 9,
   "metadata": {},
   "outputs": [],
   "source": [
    "#  step 4 - use the Country Name with more medals in the \n",
    "df_events_not_matching = pd.merge(df_events, df_worldbanknames, how = \"left\", left_on = ['NOC'], right_on = ['NOC'], suffixes=('', '_y'))\n",
    "not_matching_NOC = df_events_not_matching[df_events_not_matching['Country_y'].isnull()]\n",
    "not_matching_NOC = not_matching_NOC.groupby(['NOC','Team']).count().reset_index()\n",
    "not_matching_NOC = not_matching_NOC.drop(columns = ['ID', 'Name', 'Sex', 'Age', 'Height', 'Weight',\n",
    "       'Games', 'Year', 'Season', 'City', 'Sport', 'Event', 'Country', 'Country_y', 'Wclean'], axis =1)\n",
    "\n",
    "not_matching_NOC = not_matching_NOC[not_matching_NOC['Medal'] > 0]\n",
    "max_medals_NOC = not_matching_NOC.groupby(['NOC'])['Medal'].transform(max) == not_matching_NOC['Medal']\n",
    "max_medals_NOC = not_matching_NOC[max_medals_NOC]\n",
    "\n",
    "df_events = pd.merge(df_events, max_medals_NOC, how=\"left\", left_on='NOC', right_on = 'NOC', suffixes=('', '_y'))\n",
    "df_events['Country'] = np.where(df_events['Country'].isnull(), df_events['Team_y'], df_events['Country'])\n",
    "# drop unncessary columns from the merge\n",
    "df_events = df_events.drop(columns = ['Team_y', 'Medal_y'], axis = 1)"
   ]
  },
  {
   "cell_type": "code",
   "execution_count": 10,
   "metadata": {},
   "outputs": [],
   "source": [
    "# step 4 - clean team names with numbers\n",
    "# def hasNumbers(inputString):\n",
    "#      return any(char.isdigit() for char in inputString)\n",
    "\n",
    "# teamlist1 = df_events[\"Team\"]\n",
    "# teamlist2 = []\n",
    "\n",
    "# for team in teamlist1:\n",
    "#     if (hasNumbers (team)):\n",
    "#         splitlist = team.split(\"-\")[0]\n",
    "#         teamlist2.append(splitlist)\n",
    "#     else:\n",
    "#         teamlist2.append(team)\n",
    "\n",
    "# df_events[\"Team\"] = teamlist2"
   ]
  },
  {
   "cell_type": "code",
   "execution_count": 11,
   "metadata": {},
   "outputs": [],
   "source": [
    "# step 5 - use Team name when Country name is NaN\n",
    "df_events['Country'] = np.where(df_events['Country'].isnull(), df_events['Team'], df_events['Country'])"
   ]
  },
  {
   "cell_type": "code",
   "execution_count": 12,
   "metadata": {},
   "outputs": [],
   "source": [
    "# step 6 - filter Olympic games database to be only after 1960\n",
    "df_events = df_events[df_events[\"Year\"] >= 1960]"
   ]
  },
  {
   "cell_type": "markdown",
   "metadata": {},
   "source": [
    "<h3> Define Classes for the needed sqlite tables"
   ]
  },
  {
   "cell_type": "code",
   "execution_count": 13,
   "metadata": {},
   "outputs": [],
   "source": [
    "class Events(Base):\n",
    "    __tablename__ = 'events'\n",
    "    ID = Column(Integer, primary_key=True)\n",
    "    Name = Column(String(255))\n",
    "    Sex = Column(String(255))\n",
    "    Age = Column(Integer)\n",
    "    Height = Column(Integer)\n",
    "    Weight = Column(Integer)\n",
    "    Team = Column(String(255))\n",
    "    NOC = Column(String(255))\n",
    "    Games = Column(String(255))\n",
    "    Year = Column(Integer, primary_key=True)\n",
    "    Season = Column(String(255))\n",
    "    City = Column(String(255))\n",
    "    Sport = Column(String(255))\n",
    "    Event = Column(String(255), primary_key=True)\n",
    "    Medal = Column(String(255))\n",
    "    Country = Column(String(255), primary_key=True)"
   ]
  },
  {
   "cell_type": "code",
   "execution_count": 14,
   "metadata": {},
   "outputs": [],
   "source": [
    "class Events_Final(Base):\n",
    "    __tablename__ = 'events_final'\n",
    "    Year = Column(Integer, primary_key=True)\n",
    "    Season = Column(String(255), primary_key=True)\n",
    "    City = Column(String(255), primary_key=True)\n",
    "    NOC = Column(String(255), primary_key=True)\n",
    "    Country = Column(String(255), primary_key=True)\n",
    "    Game_Label = Column(String(255))\n",
    "    Chart_Label = Column(String(255))\n",
    "    GDP = Column(Float)\n",
    "    Population = Column(Integer)\n",
    "    GDP_per_capita = Column(Float)\n",
    "    No_olympians = Column(Integer)\n",
    "    Bronze_athlete = Column(Integer)\n",
    "    Gold_athlete = Column(Integer)\n",
    "    Silver_athlete = Column(Integer)\n",
    "    Total_Medals_athlete = Column(Integer)\n",
    "    Bronze_team = Column(Integer)\n",
    "    Gold_team = Column(Integer)\n",
    "    Silver_team = Column(Integer)\n",
    "    Total_Medals_team = Column(Integer)"
   ]
  },
  {
   "cell_type": "code",
   "execution_count": 15,
   "metadata": {},
   "outputs": [],
   "source": [
    "# class Countries_per_Event(Base):\n",
    "#     __tablename__ = 'countries_per_event'\n",
    "#     Year = Column(Integer, primary_key=True)\n",
    "#     Season = Column(String(255), primary_key=True)\n",
    "#     City = Column(String(255), primary_key=True)\n",
    "#     Game_Label = Column(String(255))\n",
    "#     Chart_Label = Column(String(255))\n",
    "#     No_countries = Column(Integer)"
   ]
  },
  {
   "cell_type": "markdown",
   "metadata": {},
   "source": [
    "<h3> Create SQLite database and connect to it"
   ]
  },
  {
   "cell_type": "code",
   "execution_count": 16,
   "metadata": {},
   "outputs": [],
   "source": [
    "# Step 1 - Create engine connection, classes, session and connection\n",
    "disk_engine = create_engine('sqlite:///olympic_events.sqlite')\n",
    "Base.metadata.create_all(disk_engine)\n",
    "session = Session(disk_engine)\n",
    "conn = disk_engine.connect()"
   ]
  },
  {
   "cell_type": "code",
   "execution_count": 17,
   "metadata": {},
   "outputs": [],
   "source": [
    "# Step 2 - Export the df_events dataframe to sqlite\n",
    "df_events.to_sql('events', disk_engine, if_exists='append', index = False)"
   ]
  },
  {
   "cell_type": "code",
   "execution_count": null,
   "metadata": {},
   "outputs": [],
   "source": []
  },
  {
   "cell_type": "code",
   "execution_count": null,
   "metadata": {},
   "outputs": [],
   "source": []
  },
  {
   "cell_type": "code",
   "execution_count": 18,
   "metadata": {},
   "outputs": [
    {
     "name": "stdout",
     "output_type": "stream",
     "text": [
      "           name\n",
      "0        events\n",
      "1  events_final\n"
     ]
    },
    {
     "data": {
      "text/plain": [
       "(('Year', None, None, None, None, None, None),\n",
       " ('Season', None, None, None, None, None, None),\n",
       " ('City', None, None, None, None, None, None),\n",
       " ('NOC', None, None, None, None, None, None),\n",
       " ('Country', None, None, None, None, None, None),\n",
       " ('Game_Label', None, None, None, None, None, None),\n",
       " ('Chart_Label', None, None, None, None, None, None),\n",
       " ('GDP', None, None, None, None, None, None),\n",
       " ('Population', None, None, None, None, None, None),\n",
       " ('GDP_per_capita', None, None, None, None, None, None),\n",
       " ('No_olympians', None, None, None, None, None, None),\n",
       " ('Bronze_athlete', None, None, None, None, None, None),\n",
       " ('Gold_athlete', None, None, None, None, None, None),\n",
       " ('Silver_athlete', None, None, None, None, None, None),\n",
       " ('Total_Medals_athlete', None, None, None, None, None, None),\n",
       " ('Bronze_team', None, None, None, None, None, None),\n",
       " ('Gold_team', None, None, None, None, None, None),\n",
       " ('Silver_team', None, None, None, None, None, None),\n",
       " ('Total_Medals_team', None, None, None, None, None, None))"
      ]
     },
     "execution_count": 18,
     "metadata": {},
     "output_type": "execute_result"
    }
   ],
   "source": [
    "# DELETE THIS PART\n",
    "\n",
    "# check the tables and columns in specific table that are in our sqlite db\n",
    "table = pd.read_sql_query(\"SELECT name FROM sqlite_master WHERE type='table'\", conn)\n",
    "print(table)\n",
    "\n",
    "# To check the columns in the tables\n",
    "conn = sqlite3.connect(\"olympic_events.sqlite\")\n",
    "cursor = conn.execute('select * from events_final')\n",
    "cursor.description"
   ]
  },
  {
   "cell_type": "markdown",
   "metadata": {},
   "source": [
    "<h2> Prepare code for Events Final Table"
   ]
  },
  {
   "cell_type": "code",
   "execution_count": 19,
   "metadata": {},
   "outputs": [],
   "source": [
    "# Base table\n",
    "events_country = pd.read_sql_query('SELECT year, season, city, NOC, country FROM events \\\n",
    "GROUP BY year, season, city, NOC, country',disk_engine)\n",
    "events_country['Game_Label'] = events_country['Season'] + ' ' + events_country['Year'].map(str) + ' - '  + events_country['City'] \n",
    "events_country['Chart_Label'] = events_country['Year'].map(str) + ' - '  + events_country['City'] \n",
    "events_country = events_country[['Year', 'Season', 'City', 'Game_Label', 'NOC', 'Chart_Label', 'Country']]"
   ]
  },
  {
   "cell_type": "code",
   "execution_count": 20,
   "metadata": {},
   "outputs": [],
   "source": [
    "# Number of Athletes\n",
    "# Step 1 Intermediate table\n",
    "olympians_team_detail = pd.read_sql_query('SELECT year, season, name, NOC FROM events \\\n",
    "GROUP BY year, season, name, NOC',disk_engine)\n",
    "olympians_team = olympians_team_detail.groupby(['Year','Season', 'NOC']).count()\n",
    "olympians_team.reset_index(inplace = True)\n",
    "olympians_team = olympians_team.rename(columns = {\"Name\": \"No_olympians\"})"
   ]
  },
  {
   "cell_type": "code",
   "execution_count": 21,
   "metadata": {},
   "outputs": [
    {
     "data": {
      "text/html": [
       "<div>\n",
       "<style scoped>\n",
       "    .dataframe tbody tr th:only-of-type {\n",
       "        vertical-align: middle;\n",
       "    }\n",
       "\n",
       "    .dataframe tbody tr th {\n",
       "        vertical-align: top;\n",
       "    }\n",
       "\n",
       "    .dataframe thead th {\n",
       "        text-align: right;\n",
       "    }\n",
       "</style>\n",
       "<table border=\"1\" class=\"dataframe\">\n",
       "  <thead>\n",
       "    <tr style=\"text-align: right;\">\n",
       "      <th>Medal</th>\n",
       "      <th>Year</th>\n",
       "      <th>Season</th>\n",
       "      <th>NOC</th>\n",
       "      <th>Bronze</th>\n",
       "      <th>Gold</th>\n",
       "      <th>Silver</th>\n",
       "      <th>Total_Medals</th>\n",
       "    </tr>\n",
       "  </thead>\n",
       "  <tbody>\n",
       "    <tr>\n",
       "      <td>0</td>\n",
       "      <td>1960</td>\n",
       "      <td>Summer</td>\n",
       "      <td>ARG</td>\n",
       "      <td>1.0</td>\n",
       "      <td>0.0</td>\n",
       "      <td>3.0</td>\n",
       "      <td>4.0</td>\n",
       "    </tr>\n",
       "    <tr>\n",
       "      <td>1</td>\n",
       "      <td>1960</td>\n",
       "      <td>Summer</td>\n",
       "      <td>AUS</td>\n",
       "      <td>11.0</td>\n",
       "      <td>11.0</td>\n",
       "      <td>24.0</td>\n",
       "      <td>46.0</td>\n",
       "    </tr>\n",
       "    <tr>\n",
       "      <td>2</td>\n",
       "      <td>1960</td>\n",
       "      <td>Summer</td>\n",
       "      <td>AUT</td>\n",
       "      <td>0.0</td>\n",
       "      <td>1.0</td>\n",
       "      <td>2.0</td>\n",
       "      <td>3.0</td>\n",
       "    </tr>\n",
       "    <tr>\n",
       "      <td>3</td>\n",
       "      <td>1960</td>\n",
       "      <td>Summer</td>\n",
       "      <td>BEL</td>\n",
       "      <td>2.0</td>\n",
       "      <td>0.0</td>\n",
       "      <td>2.0</td>\n",
       "      <td>4.0</td>\n",
       "    </tr>\n",
       "    <tr>\n",
       "      <td>4</td>\n",
       "      <td>1960</td>\n",
       "      <td>Summer</td>\n",
       "      <td>BGR</td>\n",
       "      <td>3.0</td>\n",
       "      <td>1.0</td>\n",
       "      <td>3.0</td>\n",
       "      <td>7.0</td>\n",
       "    </tr>\n",
       "    <tr>\n",
       "      <td>...</td>\n",
       "      <td>...</td>\n",
       "      <td>...</td>\n",
       "      <td>...</td>\n",
       "      <td>...</td>\n",
       "      <td>...</td>\n",
       "      <td>...</td>\n",
       "      <td>...</td>\n",
       "    </tr>\n",
       "    <tr>\n",
       "      <td>1199</td>\n",
       "      <td>2016</td>\n",
       "      <td>Summer</td>\n",
       "      <td>UZB</td>\n",
       "      <td>7.0</td>\n",
       "      <td>4.0</td>\n",
       "      <td>2.0</td>\n",
       "      <td>13.0</td>\n",
       "    </tr>\n",
       "    <tr>\n",
       "      <td>1200</td>\n",
       "      <td>2016</td>\n",
       "      <td>Summer</td>\n",
       "      <td>VEN</td>\n",
       "      <td>2.0</td>\n",
       "      <td>0.0</td>\n",
       "      <td>1.0</td>\n",
       "      <td>3.0</td>\n",
       "    </tr>\n",
       "    <tr>\n",
       "      <td>1201</td>\n",
       "      <td>2016</td>\n",
       "      <td>Summer</td>\n",
       "      <td>VNM</td>\n",
       "      <td>0.0</td>\n",
       "      <td>1.0</td>\n",
       "      <td>1.0</td>\n",
       "      <td>2.0</td>\n",
       "    </tr>\n",
       "    <tr>\n",
       "      <td>1202</td>\n",
       "      <td>2016</td>\n",
       "      <td>Summer</td>\n",
       "      <td>XKX</td>\n",
       "      <td>0.0</td>\n",
       "      <td>1.0</td>\n",
       "      <td>0.0</td>\n",
       "      <td>1.0</td>\n",
       "    </tr>\n",
       "    <tr>\n",
       "      <td>1203</td>\n",
       "      <td>2016</td>\n",
       "      <td>Summer</td>\n",
       "      <td>ZAF</td>\n",
       "      <td>14.0</td>\n",
       "      <td>2.0</td>\n",
       "      <td>7.0</td>\n",
       "      <td>23.0</td>\n",
       "    </tr>\n",
       "  </tbody>\n",
       "</table>\n",
       "<p>1204 rows × 7 columns</p>\n",
       "</div>"
      ],
      "text/plain": [
       "Medal  Year  Season  NOC  Bronze  Gold  Silver  Total_Medals\n",
       "0      1960  Summer  ARG     1.0   0.0     3.0           4.0\n",
       "1      1960  Summer  AUS    11.0  11.0    24.0          46.0\n",
       "2      1960  Summer  AUT     0.0   1.0     2.0           3.0\n",
       "3      1960  Summer  BEL     2.0   0.0     2.0           4.0\n",
       "4      1960  Summer  BGR     3.0   1.0     3.0           7.0\n",
       "...     ...     ...  ...     ...   ...     ...           ...\n",
       "1199   2016  Summer  UZB     7.0   4.0     2.0          13.0\n",
       "1200   2016  Summer  VEN     2.0   0.0     1.0           3.0\n",
       "1201   2016  Summer  VNM     0.0   1.0     1.0           2.0\n",
       "1202   2016  Summer  XKX     0.0   1.0     0.0           1.0\n",
       "1203   2016  Summer  ZAF    14.0   2.0     7.0          23.0\n",
       "\n",
       "[1204 rows x 7 columns]"
      ]
     },
     "execution_count": 21,
     "metadata": {},
     "output_type": "execute_result"
    }
   ],
   "source": [
    "# Number of Medals per athlete\n",
    "# Step 1\n",
    "medals_athlete_detail = pd.read_sql_query('SELECT year, season, NOC, sport, event, name, sex, medal FROM events \\\n",
    "GROUP BY year, season, NOC, sport, event, name, sex, medal',disk_engine)\n",
    "# Step 2\n",
    "medals_athlete = medals_athlete_detail.groupby(['Year','Season','NOC', 'Medal']).count()[['Name']]\n",
    "medals_athlete.reset_index(inplace = True)\n",
    "medals_athlete.rename(columns = {\"Name\": \"#Medals\"}, inplace = True)\n",
    "medals_athlete.sort_values(by=[\"#Medals\"], ascending=False)\n",
    "# Step 3\n",
    "medals_athlete_total = medals_athlete.pivot_table(index=['Year','Season','NOC'], values = '#Medals', columns='Medal', aggfunc='sum')\n",
    "medals_athlete_total.reset_index(inplace = True)\n",
    "medals_athlete_total.replace(np.nan,0, inplace = True)\n",
    "medals_athlete_total[\"Total_Medals\"] = medals_athlete_total[\"Bronze\"] + medals_athlete_total[\"Gold\"] + medals_athlete_total[\"Silver\"]\n",
    "medals_athlete_total"
   ]
  },
  {
   "cell_type": "code",
   "execution_count": 22,
   "metadata": {},
   "outputs": [
    {
     "data": {
      "text/html": [
       "<div>\n",
       "<style scoped>\n",
       "    .dataframe tbody tr th:only-of-type {\n",
       "        vertical-align: middle;\n",
       "    }\n",
       "\n",
       "    .dataframe tbody tr th {\n",
       "        vertical-align: top;\n",
       "    }\n",
       "\n",
       "    .dataframe thead th {\n",
       "        text-align: right;\n",
       "    }\n",
       "</style>\n",
       "<table border=\"1\" class=\"dataframe\">\n",
       "  <thead>\n",
       "    <tr style=\"text-align: right;\">\n",
       "      <th>Medal</th>\n",
       "      <th>Year</th>\n",
       "      <th>Season</th>\n",
       "      <th>NOC</th>\n",
       "      <th>Bronze</th>\n",
       "      <th>Gold</th>\n",
       "      <th>Silver</th>\n",
       "      <th>Total_Medals</th>\n",
       "    </tr>\n",
       "  </thead>\n",
       "  <tbody>\n",
       "    <tr>\n",
       "      <td>0</td>\n",
       "      <td>1960</td>\n",
       "      <td>Summer</td>\n",
       "      <td>ARG</td>\n",
       "      <td>1.0</td>\n",
       "      <td>0.0</td>\n",
       "      <td>1.0</td>\n",
       "      <td>2.0</td>\n",
       "    </tr>\n",
       "    <tr>\n",
       "      <td>1</td>\n",
       "      <td>1960</td>\n",
       "      <td>Summer</td>\n",
       "      <td>AUS</td>\n",
       "      <td>6.0</td>\n",
       "      <td>8.0</td>\n",
       "      <td>8.0</td>\n",
       "      <td>22.0</td>\n",
       "    </tr>\n",
       "    <tr>\n",
       "      <td>2</td>\n",
       "      <td>1960</td>\n",
       "      <td>Summer</td>\n",
       "      <td>AUT</td>\n",
       "      <td>0.0</td>\n",
       "      <td>1.0</td>\n",
       "      <td>1.0</td>\n",
       "      <td>2.0</td>\n",
       "    </tr>\n",
       "    <tr>\n",
       "      <td>3</td>\n",
       "      <td>1960</td>\n",
       "      <td>Summer</td>\n",
       "      <td>BEL</td>\n",
       "      <td>2.0</td>\n",
       "      <td>0.0</td>\n",
       "      <td>2.0</td>\n",
       "      <td>4.0</td>\n",
       "    </tr>\n",
       "    <tr>\n",
       "      <td>4</td>\n",
       "      <td>1960</td>\n",
       "      <td>Summer</td>\n",
       "      <td>BGR</td>\n",
       "      <td>3.0</td>\n",
       "      <td>1.0</td>\n",
       "      <td>3.0</td>\n",
       "      <td>7.0</td>\n",
       "    </tr>\n",
       "    <tr>\n",
       "      <td>...</td>\n",
       "      <td>...</td>\n",
       "      <td>...</td>\n",
       "      <td>...</td>\n",
       "      <td>...</td>\n",
       "      <td>...</td>\n",
       "      <td>...</td>\n",
       "      <td>...</td>\n",
       "    </tr>\n",
       "    <tr>\n",
       "      <td>1199</td>\n",
       "      <td>2016</td>\n",
       "      <td>Summer</td>\n",
       "      <td>UZB</td>\n",
       "      <td>7.0</td>\n",
       "      <td>4.0</td>\n",
       "      <td>2.0</td>\n",
       "      <td>13.0</td>\n",
       "    </tr>\n",
       "    <tr>\n",
       "      <td>1200</td>\n",
       "      <td>2016</td>\n",
       "      <td>Summer</td>\n",
       "      <td>VEN</td>\n",
       "      <td>2.0</td>\n",
       "      <td>0.0</td>\n",
       "      <td>1.0</td>\n",
       "      <td>3.0</td>\n",
       "    </tr>\n",
       "    <tr>\n",
       "      <td>1201</td>\n",
       "      <td>2016</td>\n",
       "      <td>Summer</td>\n",
       "      <td>VNM</td>\n",
       "      <td>0.0</td>\n",
       "      <td>1.0</td>\n",
       "      <td>1.0</td>\n",
       "      <td>2.0</td>\n",
       "    </tr>\n",
       "    <tr>\n",
       "      <td>1202</td>\n",
       "      <td>2016</td>\n",
       "      <td>Summer</td>\n",
       "      <td>XKX</td>\n",
       "      <td>0.0</td>\n",
       "      <td>1.0</td>\n",
       "      <td>0.0</td>\n",
       "      <td>1.0</td>\n",
       "    </tr>\n",
       "    <tr>\n",
       "      <td>1203</td>\n",
       "      <td>2016</td>\n",
       "      <td>Summer</td>\n",
       "      <td>ZAF</td>\n",
       "      <td>2.0</td>\n",
       "      <td>2.0</td>\n",
       "      <td>6.0</td>\n",
       "      <td>10.0</td>\n",
       "    </tr>\n",
       "  </tbody>\n",
       "</table>\n",
       "<p>1204 rows × 7 columns</p>\n",
       "</div>"
      ],
      "text/plain": [
       "Medal  Year  Season  NOC  Bronze  Gold  Silver  Total_Medals\n",
       "0      1960  Summer  ARG     1.0   0.0     1.0           2.0\n",
       "1      1960  Summer  AUS     6.0   8.0     8.0          22.0\n",
       "2      1960  Summer  AUT     0.0   1.0     1.0           2.0\n",
       "3      1960  Summer  BEL     2.0   0.0     2.0           4.0\n",
       "4      1960  Summer  BGR     3.0   1.0     3.0           7.0\n",
       "...     ...     ...  ...     ...   ...     ...           ...\n",
       "1199   2016  Summer  UZB     7.0   4.0     2.0          13.0\n",
       "1200   2016  Summer  VEN     2.0   0.0     1.0           3.0\n",
       "1201   2016  Summer  VNM     0.0   1.0     1.0           2.0\n",
       "1202   2016  Summer  XKX     0.0   1.0     0.0           1.0\n",
       "1203   2016  Summer  ZAF     2.0   2.0     6.0          10.0\n",
       "\n",
       "[1204 rows x 7 columns]"
      ]
     },
     "execution_count": 22,
     "metadata": {},
     "output_type": "execute_result"
    }
   ],
   "source": [
    "# Number of Medals per sport\n",
    "# Step 1\n",
    "medals_sport_detail = pd.read_sql_query('SELECT year, season, NOC, sport, event, sex, medal FROM events \\\n",
    "GROUP BY year, season, NOC, sport, event, sex, medal',disk_engine)\n",
    "# Step 2\n",
    "medals_sport = medals_sport_detail.groupby(['Year','Season','NOC', 'Medal']).count()[['Event']]\n",
    "medals_sport.reset_index(inplace = True)\n",
    "medals_sport.rename(columns = {\"Event\": \"#Medals\"}, inplace = True)\n",
    "medals_sport.sort_values(by=[\"#Medals\"], ascending=False)\n",
    "# Step 3\n",
    "medals_sport_total = medals_sport.pivot_table(index=['Year','Season','NOC'], values = '#Medals', columns='Medal', aggfunc='sum')\n",
    "medals_sport_total.reset_index(inplace = True)\n",
    "medals_sport_total.replace(np.nan,0, inplace = True)\n",
    "medals_sport_total[\"Total_Medals\"] = medals_sport_total[\"Bronze\"] + medals_sport_total[\"Gold\"] + medals_sport_total[\"Silver\"]\n",
    "medals_sport_total"
   ]
  },
  {
   "cell_type": "code",
   "execution_count": 23,
   "metadata": {
    "scrolled": true
   },
   "outputs": [],
   "source": [
    "# Final data gathering to reach Events_final\n",
    "\n",
    "# step 1 - merging tables\n",
    "events_merge_1 = pd.merge(events_country, df_pop_gdp_final, how = \"left\", left_on = ['Year','NOC'], right_on = ['Year','NOC'], suffixes=('', '_y'))\n",
    "events_merge_1 = events_merge_1.drop(columns = ['Country_y'])\n",
    "events_merge_2 = pd.merge(events_merge_1, olympians_team, how = \"left\", left_on = ['Year','Season', 'NOC'], right_on = ['Year','Season', 'NOC'])\n",
    "events_merge_3 = pd.merge(events_merge_2, medals_athlete_total, how = \"left\", left_on = ['Year','Season', 'NOC'], right_on = ['Year','Season', 'NOC'])\n",
    "events_merge_4 = pd.merge(events_merge_3, medals_sport_total, how = \"left\", left_on = ['Year','Season', 'NOC'], right_on = ['Year','Season', 'NOC'], suffixes=('_athlete', '_team')) "
   ]
  },
  {
   "cell_type": "code",
   "execution_count": 24,
   "metadata": {},
   "outputs": [],
   "source": [
    "# step 2 - prepare aggregated value for all countries - World (WLD)\n",
    "wld_events_1 = events_merge_4.groupby(['Year','Season','City','Game_Label', 'Chart_Label']).sum()\n",
    "wld_events_2 = pd.DataFrame(wld_events_1).reset_index()\n",
    "wld_events_2['NOC'] = 'WLD'\n",
    "wld_events_2['Country'] = 'World'\n",
    "\n",
    "# add the WLD Pop and GDP information\n",
    "wld_base_info = df_pop_gdp_final[df_pop_gdp_final['NOC'] == 'WLD']\n",
    "wld_all_info = pd.merge(wld_events_2, wld_base_info, how = \"left\", left_on = ['NOC','Year','Country'], right_on = ['NOC','Year','Country'], suffixes=('_x', ''))\n",
    "wld_all_info = wld_all_info.drop(columns = ['GDP_x', 'Population_x', 'GDP_per_capita_x'], axis = 1)"
   ]
  },
  {
   "cell_type": "code",
   "execution_count": 25,
   "metadata": {},
   "outputs": [],
   "source": [
    "# step 3 - add aggregated value for all countries - World (WLD) in Events_Final\n",
    "events_pre_final = pd.concat([events_merge_4, wld_all_info], sort=False)\n"
   ]
  },
  {
   "cell_type": "markdown",
   "metadata": {},
   "source": [
    "<h2> Countries to drop (not recognized by World Bank and without medals)"
   ]
  },
  {
   "cell_type": "code",
   "execution_count": 26,
   "metadata": {
    "scrolled": true
   },
   "outputs": [],
   "source": [
    "# Check Event NOCs that do not match world bank\n",
    "\n",
    "merge_wld_bank = pd.merge(events_pre_final, df_worldbanknames, how = \"left\", left_on = ['NOC'], right_on = ['NOC'], suffixes=('', '_y'))"
   ]
  },
  {
   "cell_type": "code",
   "execution_count": 27,
   "metadata": {},
   "outputs": [],
   "source": [
    "# NOCs not matching World Bank\n",
    "not_matching_NOC = merge_wld_bank[merge_wld_bank['Country_y'].isnull()]\n",
    "not_matching_NOC = not_matching_NOC.groupby(['NOC','Country']).sum().reset_index()\n",
    "not_matching_NOC = not_matching_NOC.drop(columns = ['Year', 'GDP', 'Population', 'GDP_per_capita',\n",
    "       'No_olympians', 'Bronze_athlete', 'Gold_athlete', 'Silver_athlete',\n",
    "       'Total_Medals_athlete', 'Bronze_team', 'Gold_team', 'Silver_team'], axis =1)"
   ]
  },
  {
   "cell_type": "code",
   "execution_count": 28,
   "metadata": {},
   "outputs": [
    {
     "data": {
      "text/html": [
       "<div>\n",
       "<style scoped>\n",
       "    .dataframe tbody tr th:only-of-type {\n",
       "        vertical-align: middle;\n",
       "    }\n",
       "\n",
       "    .dataframe tbody tr th {\n",
       "        vertical-align: top;\n",
       "    }\n",
       "\n",
       "    .dataframe thead th {\n",
       "        text-align: right;\n",
       "    }\n",
       "</style>\n",
       "<table border=\"1\" class=\"dataframe\">\n",
       "  <thead>\n",
       "    <tr style=\"text-align: right;\">\n",
       "      <th></th>\n",
       "      <th>NOC</th>\n",
       "      <th>Country</th>\n",
       "      <th>Total_Medals_team</th>\n",
       "    </tr>\n",
       "  </thead>\n",
       "  <tbody>\n",
       "    <tr>\n",
       "      <td>0</td>\n",
       "      <td>AHO</td>\n",
       "      <td>Netherlands Antilles</td>\n",
       "      <td>1.0</td>\n",
       "    </tr>\n",
       "    <tr>\n",
       "      <td>7</td>\n",
       "      <td>EUN</td>\n",
       "      <td>Unified Team</td>\n",
       "      <td>139.0</td>\n",
       "    </tr>\n",
       "    <tr>\n",
       "      <td>8</td>\n",
       "      <td>FRG</td>\n",
       "      <td>West Germany</td>\n",
       "      <td>249.0</td>\n",
       "    </tr>\n",
       "    <tr>\n",
       "      <td>9</td>\n",
       "      <td>GDR</td>\n",
       "      <td>East Germany</td>\n",
       "      <td>523.0</td>\n",
       "    </tr>\n",
       "    <tr>\n",
       "      <td>10</td>\n",
       "      <td>IOA</td>\n",
       "      <td>Individual Olympic Athletes</td>\n",
       "      <td>5.0</td>\n",
       "    </tr>\n",
       "    <tr>\n",
       "      <td>21</td>\n",
       "      <td>SCG</td>\n",
       "      <td>Serbia and Montenegro</td>\n",
       "      <td>9.0</td>\n",
       "    </tr>\n",
       "    <tr>\n",
       "      <td>22</td>\n",
       "      <td>TCH</td>\n",
       "      <td>Czechoslovakia</td>\n",
       "      <td>103.0</td>\n",
       "    </tr>\n",
       "    <tr>\n",
       "      <td>23</td>\n",
       "      <td>TPE</td>\n",
       "      <td>Chinese Taipei</td>\n",
       "      <td>24.0</td>\n",
       "    </tr>\n",
       "    <tr>\n",
       "      <td>24</td>\n",
       "      <td>UAR</td>\n",
       "      <td>United Arab Republic</td>\n",
       "      <td>2.0</td>\n",
       "    </tr>\n",
       "    <tr>\n",
       "      <td>25</td>\n",
       "      <td>URS</td>\n",
       "      <td>Soviet Union</td>\n",
       "      <td>1037.0</td>\n",
       "    </tr>\n",
       "    <tr>\n",
       "      <td>27</td>\n",
       "      <td>WIF</td>\n",
       "      <td>West Indies Federation</td>\n",
       "      <td>2.0</td>\n",
       "    </tr>\n",
       "    <tr>\n",
       "      <td>30</td>\n",
       "      <td>YUG</td>\n",
       "      <td>Yugoslavia</td>\n",
       "      <td>71.0</td>\n",
       "    </tr>\n",
       "  </tbody>\n",
       "</table>\n",
       "</div>"
      ],
      "text/plain": [
       "    NOC                      Country  Total_Medals_team\n",
       "0   AHO         Netherlands Antilles                1.0\n",
       "7   EUN                 Unified Team              139.0\n",
       "8   FRG                 West Germany              249.0\n",
       "9   GDR                 East Germany              523.0\n",
       "10  IOA  Individual Olympic Athletes                5.0\n",
       "21  SCG        Serbia and Montenegro                9.0\n",
       "22  TCH               Czechoslovakia              103.0\n",
       "23  TPE               Chinese Taipei               24.0\n",
       "24  UAR         United Arab Republic                2.0\n",
       "25  URS                 Soviet Union             1037.0\n",
       "27  WIF       West Indies Federation                2.0\n",
       "30  YUG                   Yugoslavia               71.0"
      ]
     },
     "execution_count": 28,
     "metadata": {},
     "output_type": "execute_result"
    }
   ],
   "source": [
    "not_matching_NOC[not_matching_NOC['Total_Medals_team'] > 0]"
   ]
  },
  {
   "cell_type": "code",
   "execution_count": 29,
   "metadata": {},
   "outputs": [],
   "source": [
    "# Update Country Name for not matching NOCs with medals\n",
    "# not_matching_NOC_medals = not_matching_NOC[not_matching_NOC['Total_Medals_team'] > 0]\n",
    "# max_medals_NOC = not_matching_NOC_medals.groupby(['NOC'])['Total_Medals_team'].transform(max) == not_matching_NOC_medals['Total_Medals_team']\n",
    "\n",
    "# max_medals_NOC = not_matching_NOC_medals[max_medals_NOC]\n",
    "\n",
    "# events_pre_final = pd.merge(events_pre_final, max_medals_NOC, how = \"left\", left_on = ['NOC'], right_on = ['NOC'], suffixes=('', '_Correct'))\n",
    "# events_pre_final['Country'] = np.where(events_pre_final['Country_Correct'].isnull(), events_pre_final['Country'], events_pre_final['Country_Correct'])\n",
    "# events_pre_final = events_pre_final.drop(columns = ['Country_Correct', 'Total_Medals_team_Correct'], axis = 1)"
   ]
  },
  {
   "cell_type": "code",
   "execution_count": 30,
   "metadata": {},
   "outputs": [],
   "source": [
    "# drop rows with columns not maching world bank and without medals\n",
    "not_matching_NOC_no_medals = not_matching_NOC[not_matching_NOC['Total_Medals_team'] == 0]\n",
    "not_matching_NOC_no_medals = not_matching_NOC_no_medals.groupby('NOC').all().reset_index()\n",
    "not_matching_NOC_no_medals = not_matching_NOC_no_medals.drop(columns = ['Total_Medals_team'])\n",
    "\n",
    "events_pre_final = pd.merge(events_pre_final, not_matching_NOC_no_medals, how = \"left\", left_on = ['NOC'], right_on = ['NOC'], suffixes=('', '_Drop'))\n",
    "indexNames = events_pre_final[events_pre_final['Country_Drop'] == True].index\n",
    "events_pre_final.drop(indexNames , inplace=True)\n",
    "events_pre_final = events_pre_final.drop(columns = ['Country_Drop'], axis = 1)"
   ]
  },
  {
   "cell_type": "code",
   "execution_count": 31,
   "metadata": {},
   "outputs": [],
   "source": [
    "events_final = events_pre_final"
   ]
  },
  {
   "cell_type": "code",
   "execution_count": 32,
   "metadata": {},
   "outputs": [
    {
     "data": {
      "text/html": [
       "<div>\n",
       "<style scoped>\n",
       "    .dataframe tbody tr th:only-of-type {\n",
       "        vertical-align: middle;\n",
       "    }\n",
       "\n",
       "    .dataframe tbody tr th {\n",
       "        vertical-align: top;\n",
       "    }\n",
       "\n",
       "    .dataframe thead th {\n",
       "        text-align: right;\n",
       "    }\n",
       "</style>\n",
       "<table border=\"1\" class=\"dataframe\">\n",
       "  <thead>\n",
       "    <tr style=\"text-align: right;\">\n",
       "      <th></th>\n",
       "      <th>Year</th>\n",
       "      <th>Season</th>\n",
       "      <th>City</th>\n",
       "      <th>NOC</th>\n",
       "      <th>Country</th>\n",
       "      <th>Game_Label</th>\n",
       "      <th>Chart_Label</th>\n",
       "      <th>GDP</th>\n",
       "      <th>Population</th>\n",
       "      <th>GDP_per_capita</th>\n",
       "      <th>No_olympians</th>\n",
       "      <th>Bronze_athlete</th>\n",
       "      <th>Gold_athlete</th>\n",
       "      <th>Silver_athlete</th>\n",
       "      <th>Total_Medals_athlete</th>\n",
       "      <th>Bronze_team</th>\n",
       "      <th>Gold_team</th>\n",
       "      <th>Silver_team</th>\n",
       "      <th>Total_Medals_team</th>\n",
       "    </tr>\n",
       "  </thead>\n",
       "  <tbody>\n",
       "  </tbody>\n",
       "</table>\n",
       "</div>"
      ],
      "text/plain": [
       "Empty DataFrame\n",
       "Columns: [Year, Season, City, NOC, Country, Game_Label, Chart_Label, GDP, Population, GDP_per_capita, No_olympians, Bronze_athlete, Gold_athlete, Silver_athlete, Total_Medals_athlete, Bronze_team, Gold_team, Silver_team, Total_Medals_team]\n",
       "Index: []"
      ]
     },
     "execution_count": 32,
     "metadata": {},
     "output_type": "execute_result"
    }
   ],
   "source": [
    "a = events_final.groupby(['Year','Season','City','NOC','Country']).count().reset_index()\n",
    "a[a['Game_Label'] > 1]"
   ]
  },
  {
   "cell_type": "code",
   "execution_count": 33,
   "metadata": {},
   "outputs": [],
   "source": [
    "# step 4 - load the events_final in SQLite\n",
    "events_final.to_sql('events_final', disk_engine, if_exists='append', index = False)"
   ]
  },
  {
   "cell_type": "code",
   "execution_count": 34,
   "metadata": {},
   "outputs": [],
   "source": [
    "# Side Checks 1\n",
    "# a = events_final.groupby(['Year','Season','City','NOC']).count()\n",
    "# a = a.reset_index()\n",
    "# a[a['Country'] > 1]"
   ]
  },
  {
   "cell_type": "code",
   "execution_count": 35,
   "metadata": {},
   "outputs": [],
   "source": [
    "# Side Checks 1 - detail\n",
    "# events_final[(events_final['Year'] == 1960) & (events_final['Season'] == 'Summer') & (events_final['NOC'] == 'URS')]"
   ]
  },
  {
   "cell_type": "code",
   "execution_count": 36,
   "metadata": {},
   "outputs": [],
   "source": [
    "# events_final.columns"
   ]
  },
  {
   "cell_type": "markdown",
   "metadata": {},
   "source": [
    "<h2> Countries per event"
   ]
  },
  {
   "cell_type": "code",
   "execution_count": 57,
   "metadata": {},
   "outputs": [
    {
     "data": {
      "text/html": [
       "<div>\n",
       "<style scoped>\n",
       "    .dataframe tbody tr th:only-of-type {\n",
       "        vertical-align: middle;\n",
       "    }\n",
       "\n",
       "    .dataframe tbody tr th {\n",
       "        vertical-align: top;\n",
       "    }\n",
       "\n",
       "    .dataframe thead th {\n",
       "        text-align: right;\n",
       "    }\n",
       "</style>\n",
       "<table border=\"1\" class=\"dataframe\">\n",
       "  <thead>\n",
       "    <tr style=\"text-align: right;\">\n",
       "      <th></th>\n",
       "      <th>NOC</th>\n",
       "      <th>Country</th>\n",
       "      <th>count(*)</th>\n",
       "    </tr>\n",
       "  </thead>\n",
       "  <tbody>\n",
       "  </tbody>\n",
       "</table>\n",
       "</div>"
      ],
      "text/plain": [
       "Empty DataFrame\n",
       "Columns: [NOC, Country, count(*)]\n",
       "Index: []"
      ]
     },
     "execution_count": 57,
     "metadata": {},
     "output_type": "execute_result"
    }
   ],
   "source": [
    "# Base table\n",
    "# countries_per_event = pd.read_sql_query('SELECT year, season, city, game_Label, chart_Label, count(NOC) FROM events_final \\\n",
    "# GROUP BY year, season, city, game_Label, chart_Label',disk_engine)\n",
    "# countries_per_event = countries_per_event.rename( columns = {'count(NOC)' : 'No_countries'})\n",
    "# countries_per_event"
   ]
  },
  {
   "cell_type": "code",
   "execution_count": 38,
   "metadata": {},
   "outputs": [],
   "source": [
    "# Load the events_final in SQLite\n",
    "# countries_per_event.to_sql('countries_per_event', disk_engine, if_exists='append', index = False)"
   ]
  },
  {
   "cell_type": "code",
   "execution_count": null,
   "metadata": {},
   "outputs": [],
   "source": []
  },
  {
   "cell_type": "code",
   "execution_count": null,
   "metadata": {},
   "outputs": [],
   "source": []
  },
  {
   "cell_type": "code",
   "execution_count": 39,
   "metadata": {},
   "outputs": [],
   "source": [
    "# countries_per_event.columns"
   ]
  },
  {
   "cell_type": "code",
   "execution_count": 40,
   "metadata": {},
   "outputs": [],
   "source": [
    "# \n",
    "# events_final[(events_final['Chart_Label'] == '2016 - Rio de Janeiro')]"
   ]
  },
  {
   "cell_type": "code",
   "execution_count": 41,
   "metadata": {},
   "outputs": [],
   "source": [
    "# test = df_events_new[(df_events_new['Year'] == 1980) & (df_events_new['Season'] == 'Summer') & (df_events_new['NOC'] == 'BRA')]\n",
    "# test"
   ]
  },
  {
   "cell_type": "code",
   "execution_count": 42,
   "metadata": {},
   "outputs": [],
   "source": [
    "# test.groupby(['Event','Name','Sport','Medal','Sex']).count()"
   ]
  },
  {
   "cell_type": "code",
   "execution_count": null,
   "metadata": {},
   "outputs": [],
   "source": []
  },
  {
   "cell_type": "markdown",
   "metadata": {},
   "source": [
    "<h2> DELETE - Olympians over time"
   ]
  },
  {
   "cell_type": "code",
   "execution_count": 43,
   "metadata": {},
   "outputs": [],
   "source": [
    "# # test1 = session.query(Events.Year, Events.Season, Events.Name, Events.Team, Events.NOC).\\\n",
    "#     group_by(Events.Year, Events.Season, Events.Name, Events.Team, Events.NOC).all()"
   ]
  },
  {
   "cell_type": "code",
   "execution_count": 44,
   "metadata": {},
   "outputs": [],
   "source": [
    "# # Intermediate table\n",
    "# olympians_team_detail = pd.read_sql_query('SELECT year, season, name, team, NOC FROM events \\\n",
    "# GROUP BY year, season, name, team, NOC',disk_engine)\n",
    "# olympians_team_detail"
   ]
  },
  {
   "cell_type": "code",
   "execution_count": 45,
   "metadata": {},
   "outputs": [],
   "source": [
    "# Final table with number of athletes per Event (Year&Season)\n",
    "# olympians_team = olympians_team_detail.groupby(['Year','Season', 'Team', 'NOC']).count()\n",
    "# olympians_team.reset_index(inplace = True)\n",
    "# olympians_team_final = olympians_team.rename(columns = {\"Name\": \"No_olympians\"})"
   ]
  },
  {
   "cell_type": "code",
   "execution_count": 46,
   "metadata": {},
   "outputs": [],
   "source": [
    "# Export to sqlite\n",
    "# olympians_team_final.to_sql('olympians_team_final', disk_engine, if_exists='append', index = False)"
   ]
  },
  {
   "cell_type": "code",
   "execution_count": 47,
   "metadata": {},
   "outputs": [],
   "source": [
    "# Giving an error - I need to fix it\n",
    "# test2 = session.query(Olympians_Team_Final.Year, Olympians_Team_Final.Season,\\\n",
    "#                         Olympians_Team_Final.Team, Olympians_Team_Final.NOC, Olympians_Team_Final.No_olympians).all()\n"
   ]
  },
  {
   "cell_type": "markdown",
   "metadata": {},
   "source": [
    "<h2> Medals by country / Total Medal count over time / Participating events over time"
   ]
  },
  {
   "cell_type": "code",
   "execution_count": 48,
   "metadata": {},
   "outputs": [],
   "source": [
    "# Intermediate table 1\n",
    "# medals_team_detail = pd.read_sql_query('SELECT year, season, sport, event, sex, medal, team, NOC FROM events \\\n",
    "# GROUP BY year, season, sport, event, sex, medal, team, NOC',disk_engine)\n",
    "# medals_team_detail[\"Medal\"].fillna(\"No_medal\", inplace = True) "
   ]
  },
  {
   "cell_type": "code",
   "execution_count": 49,
   "metadata": {},
   "outputs": [],
   "source": [
    "# Intermediate table 2 - may be used for visualizations\n",
    "# medals_team = medals_team_detail.groupby(['Year','Season','Team', 'NOC', 'Medal']).count()[['Sport']]\n",
    "# medals_team.reset_index(inplace = True)\n",
    "# medals_team.rename(columns = {\"Sport\": \"#Medals\"}, inplace = True)\n",
    "# medals_team.sort_values(by=[\"#Medals\"], ascending=False)\n",
    "# medals_team.loc[medals_team['Year'] == 1984].sort_values(by=['Year',''\"#Medals\"], ascending=[True, False])"
   ]
  },
  {
   "cell_type": "code",
   "execution_count": 50,
   "metadata": {},
   "outputs": [],
   "source": [
    "# Summary table with all the participant countries. Total Medals is sum of G,S&B\n",
    "# If you need a list of medals, check the previous table\n",
    "# medals_team_total = medals_team.pivot_table(index=['Year','Season','Team','NOC'], values = '#Medals', columns='Medal', aggfunc='sum')\n",
    "# medals_team_total.reset_index(inplace = True)\n",
    "# medals_team_total.replace(np.nan,0, inplace = True)\n",
    "# medals_team_total[\"Total_Medals\"] = medals_team_total[\"Bronze\"] + medals_team_total[\"Gold\"] + medals_team_total[\"Silver\"]\n",
    "# medals_team_total.sort_values(by=['Year','Season', 'Total_Medals'], ascending=[True, True, False], inplace = True)\n",
    "# medals_team_total.loc[medals_team_total['Year'] == 1960]"
   ]
  },
  {
   "cell_type": "code",
   "execution_count": 51,
   "metadata": {},
   "outputs": [],
   "source": [
    "# Export to sqlite\n",
    "# medals_team_total.to_sql('medals_team_total', disk_engine, if_exists='append', index = False)"
   ]
  },
  {
   "cell_type": "code",
   "execution_count": 52,
   "metadata": {},
   "outputs": [],
   "source": [
    "# Giving an error - I need to fix it\n",
    "# test3 = session.query(Medals_Team_Total.Year, Medals_Team_Total.Season, Medals_Team_Total.Team, \\\n",
    "#                       Medals_Team_Total.NOC, Medals_Team_Total.Bronze, Medals_Team_Total.Silver, \\\n",
    "#                       Medals_Team_Total.Gold, Medals_Team_Total.Total_Medals).\\\n",
    "#                     filter(Medals_Team_Total.NOC == 'USA').all()\n",
    "\n"
   ]
  }
 ],
 "metadata": {
  "kernelspec": {
   "display_name": "Python 3",
   "language": "python",
   "name": "python3"
  },
  "language_info": {
   "codemirror_mode": {
    "name": "ipython",
    "version": 3
   },
   "file_extension": ".py",
   "mimetype": "text/x-python",
   "name": "python",
   "nbconvert_exporter": "python",
   "pygments_lexer": "ipython3",
   "version": "3.7.4"
  }
 },
 "nbformat": 4,
 "nbformat_minor": 2
}
