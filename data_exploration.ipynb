{
 "cells": [
  {
   "cell_type": "code",
   "execution_count": 1,
   "metadata": {},
   "outputs": [],
   "source": [
    "#import dependencies\n",
    "import warnings\n",
    "warnings.filterwarnings('ignore')\n",
    "import pandas as pd\n",
    "import numpy as np\n",
    "import sqlalchemy\n",
    "from sqlalchemy.ext.automap import automap_base\n",
    "from sqlalchemy.orm import Session\n",
    "from sqlalchemy import create_engine, func, inspect, Column, Integer, String, Float\n",
    "from sqlalchemy.ext.declarative import declarative_base\n",
    "import sqlite3\n",
    "Base = declarative_base()"
   ]
  },
  {
   "cell_type": "code",
   "execution_count": 2,
   "metadata": {},
   "outputs": [],
   "source": [
    "# Load CSV Files\n",
    "\n",
    "# sources: https://www.kaggle.com/heesoo37/120-years-of-olympic-history-athletes-and-results/data#\n",
    "# Data starts in 1896\n",
    "events_file = 'Resources/athlete_events.csv'\n",
    "df_events_orig = pd.read_csv(events_file)\n",
    "\n",
    "# source: World Bank (https://databank.worldbank.org/reports.aspx?source=2&series=NY.GDP.MKTP.CD&country=#) \n",
    "# Data starts in 1960\n",
    "pop_gdp_file = 'Resources/population_gdp.csv'\n",
    "df_pop_gdp_orig = pd.read_csv(pop_gdp_file)"
   ]
  },
  {
   "cell_type": "markdown",
   "metadata": {},
   "source": [
    "<h3> Clean Worldbank data"
   ]
  },
  {
   "cell_type": "code",
   "execution_count": 3,
   "metadata": {},
   "outputs": [],
   "source": [
    "# step 1 - rename columns\n",
    "df_pop_gdp = df_pop_gdp_orig\n",
    "df_pop_gdp = df_pop_gdp.drop(columns = ['Series Code'], axis =1)\n",
    "df_pop_gdp = df_pop_gdp.rename(\n",
    "    columns={\n",
    "        \"Series Name\": \"Series\", \n",
    "        \"Country Name\": \"Country\",\n",
    "        \"Country Code\": \"NOC\"})\n",
    "\n",
    "df_pop_gdp.columns = df_pop_gdp.columns.str.split(' ').str[0].tolist()\n",
    "\n",
    "keep_columns = ['Series', 'Country', 'NOC']\n",
    "event_years = df_events_orig.Year.unique().astype(str)\n",
    "\n",
    "for i in event_years:\n",
    "    keep_columns.append(i)\n",
    "\n",
    "df_pop_gdp = df_pop_gdp[df_pop_gdp.columns.intersection(keep_columns)]"
   ]
  },
  {
   "cell_type": "code",
   "execution_count": 4,
   "metadata": {},
   "outputs": [],
   "source": [
    "# step 2 - filter by GDP and Population series_names\n",
    "df_pop_gdp_1 = df_pop_gdp.loc[(df_pop_gdp[\"Series\"] == \"GDP (current US$)\") | (df_pop_gdp[\"Series\"] == \"Population, total\")]\n",
    "df_pop_gdp_2 = df_pop_gdp_1.melt(id_vars=['Series', 'Country', 'NOC'])\n",
    "df_pop_gdp_2 = df_pop_gdp_2.rename(columns={'variable':'Year'})"
   ]
  },
  {
   "cell_type": "code",
   "execution_count": 5,
   "metadata": {},
   "outputs": [],
   "source": [
    "# step 3 - Reformat the table\n",
    "df_pop_gdp_final = df_pop_gdp_2.pivot_table(index=['Year','NOC','Country'], values = 'value', columns='Series', aggfunc='sum')\n",
    "df_pop_gdp_final = df_pop_gdp_final.reset_index()\n",
    "df_pop_gdp_final = df_pop_gdp_final.rename(columns = {'GDP (current US$)': 'GDP', 'Population, total': 'Population'})\n",
    "df_pop_gdp_final['Population'] = np.where(df_pop_gdp_final['Population'] == '..', 0, df_pop_gdp_final['Population'])\n",
    "df_pop_gdp_final['GDP'] = np.where(df_pop_gdp_final['GDP'] == '..', 0, df_pop_gdp_final['GDP'])\n",
    "df_pop_gdp_final = df_pop_gdp_final.astype({'GDP': 'float64', 'Year': 'int64', 'Population': 'int64'})\n",
    "df_pop_gdp_final['GDP_per_capita'] = df_pop_gdp_final['GDP'] / df_pop_gdp_final['Population']"
   ]
  },
  {
   "cell_type": "markdown",
   "metadata": {},
   "source": [
    "<h3> Clean Olympic Events"
   ]
  },
  {
   "cell_type": "code",
   "execution_count": 6,
   "metadata": {
    "scrolled": true
   },
   "outputs": [],
   "source": [
    "# step 1 - define df_events dataframe\n",
    "df_events = df_events_orig"
   ]
  },
  {
   "cell_type": "code",
   "execution_count": 7,
   "metadata": {},
   "outputs": [],
   "source": [
    "# step 2 - clean NOC (in df_events) based on worldbank NOC to match each other\n",
    "\n",
    "# extract WorldBank's NOC (Country code) and Country (name)\n",
    "df_worldbanknames = pd.DataFrame(df_pop_gdp_final.groupby(['NOC','Country']).size().reset_index())\n",
    "df_worldbanknames = df_worldbanknames.drop(columns=[0])\n",
    "\n",
    "# create a column with stripped country_name and sanitize\n",
    "df_worldbanknames['Wclean'] = df_worldbanknames ['Country'].str.replace(\" \", \"\").str.lower()\n",
    "\n",
    "# create a column with stripped Team name in Olympic Data and sanitize\n",
    "df_events['Oclean'] = df_events ['Team'].str.replace(\" \", \"\").str.lower()\n",
    "\n",
    "# Unique transformations of countries that are in both data bases, but didn't match up.\n",
    "df_events['NOC'] = df_events['NOC'].str.replace(\"IRI\", \"IRN\")\n",
    "df_events['NOC'] = df_events['NOC'].str.replace(\"GER\", \"DEU\")\n",
    "df_events['NOC'] = df_events['NOC'].str.replace(\"BAH\", \"BHS\")\n",
    "df_events['NOC'] = df_events['NOC'].str.replace(\"SUI\", \"CHE\")\n",
    "df_events['NOC'] = df_events['NOC'].str.replace(\"ISV\", \"VIR\")\n",
    "df_events['NOC'] = df_events['NOC'].str.replace(\"GRE\", \"GRC\")\n",
    "df_events['NOC'] = df_events['NOC'].str.replace(\"DEN\", \"DNK\")\n",
    "df_events['NOC'] = df_events['NOC'].str.replace(\"NED\", \"NLD\")\n",
    "df_events['NOC'] = df_events['NOC'].str.replace(\"CGO\", \"COG\")\n",
    "df_events['NOC'] = df_events['NOC'].str.replace(\"LAT\", \"LVA\")\n",
    "df_events['NOC'] = df_events['NOC'].str.replace(\"INA\", \"IDN\")\n",
    "df_events['NOC'] = df_events['NOC'].str.replace(\"GAM\", \"GMB\")\n",
    "df_events['NOC'] = df_events['NOC'].str.replace(\"GBS\", \"GNB\")\n",
    "df_events['NOC'] = df_events['NOC'].str.replace(\"MAS\", \"MYS\")\n",
    "df_events['NOC'] = df_events['NOC'].str.replace(\"NGR\", \"NGA\")\n",
    "df_events['NOC'] = df_events['NOC'].str.replace(\"VIN\", \"VCT\")\n",
    "df_events['NOC'] = df_events['NOC'].str.replace(\"BRU\", \"BRN\")\n",
    "df_events['NOC'] = df_events['NOC'].str.replace(\"SLO\", \"SVN\")\n",
    "df_events['NOC'] = df_events['NOC'].str.replace(\"MRI\", \"MUS\")\n",
    "df_events['NOC'] = df_events['NOC'].str.replace(\"BUL\", \"BGR\")\n",
    "df_events['NOC'] = df_events['NOC'].str.replace(\"PUR\", \"PRI\")\n",
    "df_events['NOC'] = df_events['NOC'].str.replace(\"MON\", \"MCO\")\n",
    "df_events['NOC'] = df_events['NOC'].str.replace(\"SKN\", \"KNA\")\n",
    "\n",
    "# merge by stripped country names and make sure Olympic Data NOC matches WorldBank country_code\n",
    "df_events = pd.merge(df_events, df_worldbanknames, how=\"left\", left_on='Oclean', right_on = 'Wclean', suffixes=('', '_y'))\n",
    "df_events['NOC'] = np.where(df_events['NOC'].isnull() == False, df_events['NOC'], df_events['NOC'])\n",
    "\n",
    "# drop unncessary columns from the merge\n",
    "df_events = df_events.drop(columns = ['Oclean', 'NOC_y', 'Wclean'], axis = 1)"
   ]
  },
  {
   "cell_type": "code",
   "execution_count": 8,
   "metadata": {},
   "outputs": [],
   "source": [
    "# step 3 - clean team names with numbers\n",
    "def hasNumbers(inputString):\n",
    "     return any(char.isdigit() for char in inputString)\n",
    "\n",
    "teamlist1 = df_events[\"Team\"]\n",
    "teamlist2 = []\n",
    "\n",
    "for team in teamlist1:\n",
    "    if (hasNumbers (team)):\n",
    "        splitlist = team.split(\"-\")[0]\n",
    "        teamlist2.append(splitlist)\n",
    "    else:\n",
    "        teamlist2.append(team)\n",
    "\n",
    "df_events[\"Team\"] = teamlist2"
   ]
  },
  {
   "cell_type": "code",
   "execution_count": 9,
   "metadata": {},
   "outputs": [],
   "source": [
    "# step 4 - use Team name when Country name is NaN\n",
    "df_events['Country'] = np.where(df_events['Country'].isnull(), df_events['Team'], df_events['Country'])"
   ]
  },
  {
   "cell_type": "code",
   "execution_count": 10,
   "metadata": {},
   "outputs": [],
   "source": [
    "# step 5 - filter Olympic games database to be only after 1960\n",
    "df_events = df_events[df_events[\"Year\"] >= 1960]"
   ]
  },
  {
   "cell_type": "markdown",
   "metadata": {},
   "source": [
    "<h3> Define Classes for the needed sqlite tables"
   ]
  },
  {
   "cell_type": "code",
   "execution_count": 11,
   "metadata": {},
   "outputs": [],
   "source": [
    "class Events(Base):\n",
    "    __tablename__ = 'events'\n",
    "    ID = Column(Integer, primary_key=True)\n",
    "    Name = Column(String(255))\n",
    "    Sex = Column(String(255))\n",
    "    Age = Column(Integer)\n",
    "    Height = Column(Integer)\n",
    "    Weight = Column(Integer)\n",
    "    Team = Column(String(255))\n",
    "    NOC = Column(String(255))\n",
    "    Games = Column(String(255))\n",
    "    Year = Column(Integer, primary_key=True)\n",
    "    Season = Column(String(255))\n",
    "    City = Column(String(255))\n",
    "    Sport = Column(String(255))\n",
    "    Event = Column(String(255), primary_key=True)\n",
    "    Medal = Column(String(255))\n",
    "    Country = Column(String(255), primary_key=True)"
   ]
  },
  {
   "cell_type": "code",
   "execution_count": 12,
   "metadata": {},
   "outputs": [],
   "source": [
    "class Events_Final(Base):\n",
    "    __tablename__ = 'events_final'\n",
    "    Year = Column(Integer, primary_key=True)\n",
    "    Season = Column(String(255), primary_key=True)\n",
    "    City = Column(String(255), primary_key=True)\n",
    "    NOC = Column(String(255), primary_key=True)\n",
    "    Country = Column(String(255), primary_key=True)\n",
    "    Game_Label = Column(String(255))\n",
    "    Chart_Label = Column(String(255))\n",
    "    GDP = Column(Float)\n",
    "    Population = Column(Integer)\n",
    "    No_olympians = Column(Integer)\n",
    "    Bronze_athlete = Column(Integer)\n",
    "    Gold_athlete = Column(Integer)\n",
    "    Silver_athlete = Column(Integer)\n",
    "    Total_Medals_athlete = Column(Integer)\n",
    "    Bronze_team = Column(Integer)\n",
    "    Gold_team = Column(Integer)\n",
    "    Silver_team = Column(Integer)\n",
    "    Total_Medals_team = Column(Integer)"
   ]
  },
  {
   "cell_type": "markdown",
   "metadata": {},
   "source": [
    "<h3> Create SQLite database and connect to it"
   ]
  },
  {
   "cell_type": "code",
   "execution_count": 13,
   "metadata": {},
   "outputs": [],
   "source": [
    "# Step 1 - Create engine connection, classes, session and connection\n",
    "disk_engine = create_engine('sqlite:///olympic_events.sqlite')\n",
    "Base.metadata.create_all(disk_engine)\n",
    "session = Session(disk_engine)\n",
    "conn = disk_engine.connect()"
   ]
  },
  {
   "cell_type": "code",
   "execution_count": 14,
   "metadata": {},
   "outputs": [],
   "source": [
    "# Step 2 - Export the df_events dataframe to sqlite\n",
    "df_events.to_sql('events', disk_engine, if_exists='append', index = False)"
   ]
  },
  {
   "cell_type": "code",
   "execution_count": null,
   "metadata": {},
   "outputs": [],
   "source": []
  },
  {
   "cell_type": "code",
   "execution_count": null,
   "metadata": {},
   "outputs": [],
   "source": []
  },
  {
   "cell_type": "code",
   "execution_count": 15,
   "metadata": {},
   "outputs": [
    {
     "name": "stdout",
     "output_type": "stream",
     "text": [
      "           name\n",
      "0        events\n",
      "1  events_final\n"
     ]
    },
    {
     "data": {
      "text/plain": [
       "(('Year', None, None, None, None, None, None),\n",
       " ('Season', None, None, None, None, None, None),\n",
       " ('City', None, None, None, None, None, None),\n",
       " ('NOC', None, None, None, None, None, None),\n",
       " ('Country', None, None, None, None, None, None),\n",
       " ('Game_Label', None, None, None, None, None, None),\n",
       " ('GDP', None, None, None, None, None, None),\n",
       " ('Population', None, None, None, None, None, None),\n",
       " ('No_olympians', None, None, None, None, None, None),\n",
       " ('Bronze_athlete', None, None, None, None, None, None),\n",
       " ('Gold_athlete', None, None, None, None, None, None),\n",
       " ('Silver_athlete', None, None, None, None, None, None),\n",
       " ('Total_Medals_athlete', None, None, None, None, None, None),\n",
       " ('Bronze_team', None, None, None, None, None, None),\n",
       " ('Gold_team', None, None, None, None, None, None),\n",
       " ('Silver_team', None, None, None, None, None, None),\n",
       " ('Total_Medals_team', None, None, None, None, None, None))"
      ]
     },
     "execution_count": 15,
     "metadata": {},
     "output_type": "execute_result"
    }
   ],
   "source": [
    "# DELETE THIS PART\n",
    "\n",
    "# check the tables and columns in specific table that are in our sqlite db\n",
    "table = pd.read_sql_query(\"SELECT name FROM sqlite_master WHERE type='table'\", conn)\n",
    "print(table)\n",
    "\n",
    "# To check the columns in the tables\n",
    "conn = sqlite3.connect(\"olympic_events.sqlite\")\n",
    "cursor = conn.execute('select * from events_final')\n",
    "cursor.description"
   ]
  },
  {
   "cell_type": "markdown",
   "metadata": {},
   "source": [
    "<h2> Prepare code for Events Final Table"
   ]
  },
  {
   "cell_type": "code",
   "execution_count": 16,
   "metadata": {},
   "outputs": [],
   "source": [
    "# Base table\n",
    "events_country = pd.read_sql_query('SELECT year, season, city, NOC, country FROM events \\\n",
    "GROUP BY year, season, city, NOC, country',disk_engine)\n",
    "events_country['Game_Label'] = events_country['Season'] + ' ' + events_country['Year'].map(str) + ' - '  + events_country['City'] \n",
    "events_country['Chart_Label'] = events_country['Year'].map(str) + ' - '  + events_country['City'] \n",
    "events_country = events_country[['Year', 'Season', 'City', 'Game_Label', 'NOC', 'Chart_Label', 'Country']]"
   ]
  },
  {
   "cell_type": "code",
   "execution_count": 17,
   "metadata": {},
   "outputs": [],
   "source": [
    "# Number of Athletes\n",
    "# Step 1 Intermediate table\n",
    "olympians_team_detail = pd.read_sql_query('SELECT year, season, name, NOC FROM events \\\n",
    "GROUP BY year, season, name, NOC',disk_engine)\n",
    "olympians_team = olympians_team_detail.groupby(['Year','Season', 'NOC']).count()\n",
    "olympians_team.reset_index(inplace = True)\n",
    "olympians_team = olympians_team.rename(columns = {\"Name\": \"No_olympians\"})"
   ]
  },
  {
   "cell_type": "code",
   "execution_count": null,
   "metadata": {},
   "outputs": [],
   "source": [
    "# Number of Medals per athlete\n",
    "# Step 1\n",
    "medals_athlete_detail = pd.read_sql_query('SELECT year, season, NOC, sport, event, name, sex, medal FROM events \\\n",
    "GROUP BY year, season, NOC, sport, event, name, sex, medal',disk_engine)\n",
    "# Step 2\n",
    "medals_athlete = medals_athlete_detail.groupby(['Year','Season','NOC', 'Medal']).count()[['Name']]\n",
    "medals_athlete.reset_index(inplace = True)\n",
    "medals_athlete.rename(columns = {\"Name\": \"#Medals\"}, inplace = True)\n",
    "medals_athlete.sort_values(by=[\"#Medals\"], ascending=False)\n",
    "# Step 3\n",
    "medals_athlete_total = medals_athlete.pivot_table(index=['Year','Season','NOC'], values = '#Medals', columns='Medal', aggfunc='sum')\n",
    "medals_athlete_total.reset_index(inplace = True)\n",
    "medals_athlete_total.replace(np.nan,0, inplace = True)\n",
    "medals_athlete_total[\"Total_Medals\"] = medals_athlete_total[\"Bronze\"] + medals_athlete_total[\"Gold\"] + medals_athlete_total[\"Silver\"]\n",
    "medals_athlete_total"
   ]
  },
  {
   "cell_type": "code",
   "execution_count": null,
   "metadata": {},
   "outputs": [],
   "source": [
    "# Number of Medals per sport\n",
    "# Step 1\n",
    "medals_sport_detail = pd.read_sql_query('SELECT year, season, NOC, sport, event, sex, medal FROM events \\\n",
    "GROUP BY year, season, NOC, sport, event, sex, medal',disk_engine)\n",
    "# Step 2\n",
    "medals_sport = medals_sport_detail.groupby(['Year','Season','NOC', 'Medal']).count()[['Event']]\n",
    "medals_sport.reset_index(inplace = True)\n",
    "medals_sport.rename(columns = {\"Event\": \"#Medals\"}, inplace = True)\n",
    "medals_sport.sort_values(by=[\"#Medals\"], ascending=False)\n",
    "# Step 3\n",
    "medals_sport_total = medals_sport.pivot_table(index=['Year','Season','NOC'], values = '#Medals', columns='Medal', aggfunc='sum')\n",
    "medals_sport_total.reset_index(inplace = True)\n",
    "medals_sport_total.replace(np.nan,0, inplace = True)\n",
    "medals_sport_total[\"Total_Medals\"] = medals_sport_total[\"Bronze\"] + medals_sport_total[\"Gold\"] + medals_sport_total[\"Silver\"]\n",
    "medals_sport_total"
   ]
  },
  {
   "cell_type": "code",
   "execution_count": null,
   "metadata": {
    "scrolled": true
   },
   "outputs": [],
   "source": [
    "# Final data gathering to reach Events_final\n",
    "\n",
    "# step 1 - merging tables\n",
    "events_merge_1 = pd.merge(events_country, df_pop_gdp_final, how = \"left\", left_on = ['Year','NOC'], right_on = ['Year','NOC'], suffixes=('', '_y'))\n",
    "events_merge_1 = events_merge_1.drop(columns = ['Country_y'])\n",
    "events_merge_2 = pd.merge(events_merge_1, olympians_team, how = \"left\", left_on = ['Year','Season', 'NOC'], right_on = ['Year','Season', 'NOC'])\n",
    "events_merge_3 = pd.merge(events_merge_2, medals_athlete_total, how = \"left\", left_on = ['Year','Season', 'NOC'], right_on = ['Year','Season', 'NOC'])\n",
    "events_merge_4 = pd.merge(events_merge_3, medals_sport_total, how = \"left\", left_on = ['Year','Season', 'NOC'], right_on = ['Year','Season', 'NOC'], suffixes=('_athlete', '_team')) "
   ]
  },
  {
   "cell_type": "code",
   "execution_count": null,
   "metadata": {},
   "outputs": [],
   "source": [
    "# step 2 - prepare aggregated value for all countries - World (WLD)\n",
    "wld_events_1 = events_merge_4.groupby(['Year','Season','City','Game_Label']).sum()\n",
    "wld_events_2 = pd.DataFrame(wld_events_1).reset_index()\n",
    "wld_events_2['NOC'] = 'WLD'\n",
    "wld_events_2['Country'] = 'World'\n",
    "\n",
    "# add the WLD Pop and GDP information\n",
    "wld_base_info = df_pop_gdp_final[df_pop_gdp_final['NOC'] == 'WLD']\n",
    "wld_all_info = pd.merge(wld_events_2, wld_base_info, how = \"left\", left_on = ['NOC','Year','Country'], right_on = ['NOC','Year','Country'])"
   ]
  },
  {
   "cell_type": "code",
   "execution_count": null,
   "metadata": {},
   "outputs": [],
   "source": [
    "# step 3 - add aggregated value for all countries - World (WLD) in Events_Final\n",
    "events_final = pd.concat([events_merge_4, wld_all_info], sort=False)\n",
    "events_final"
   ]
  },
  {
   "cell_type": "code",
   "execution_count": null,
   "metadata": {},
   "outputs": [],
   "source": [
    "# Side Checks 1\n",
    "a = events_final.groupby(['Year','Season','City','NOC']).count()\n",
    "a = a.reset_index()\n",
    "a[a['Country'] > 1]"
   ]
  },
  {
   "cell_type": "code",
   "execution_count": null,
   "metadata": {},
   "outputs": [],
   "source": [
    "# Side Checks 1 - detail\n",
    "events_final[(events_final['Year'] == 1960) & (events_final['Season'] == 'Summer') & (events_final['NOC'] == 'URS')]"
   ]
  },
  {
   "cell_type": "code",
   "execution_count": null,
   "metadata": {},
   "outputs": [],
   "source": [
    "events_final.to_sql('events_final', disk_engine, if_exists='append', index = False)"
   ]
  },
  {
   "cell_type": "code",
   "execution_count": null,
   "metadata": {},
   "outputs": [],
   "source": [
    "events_final.columns"
   ]
  },
  {
   "cell_type": "code",
   "execution_count": null,
   "metadata": {},
   "outputs": [],
   "source": [
    "events_final[(events_final['Year'] == 1980) & (events_final['Season'] == 'Summer') & (events_final['NOC'] == 'BRA')]"
   ]
  },
  {
   "cell_type": "code",
   "execution_count": null,
   "metadata": {},
   "outputs": [],
   "source": [
    "test = df_events_new[(df_events_new['Year'] == 1980) & (df_events_new['Season'] == 'Summer') & (df_events_new['NOC'] == 'BRA')]\n",
    "test"
   ]
  },
  {
   "cell_type": "code",
   "execution_count": null,
   "metadata": {},
   "outputs": [],
   "source": [
    "test.groupby(['Event','Name','Sport','Medal','Sex']).count()"
   ]
  },
  {
   "cell_type": "code",
   "execution_count": null,
   "metadata": {},
   "outputs": [],
   "source": []
  },
  {
   "cell_type": "markdown",
   "metadata": {},
   "source": [
    "<h2> DELETE - Olympians over time"
   ]
  },
  {
   "cell_type": "code",
   "execution_count": null,
   "metadata": {},
   "outputs": [],
   "source": [
    "# # test1 = session.query(Events.Year, Events.Season, Events.Name, Events.Team, Events.NOC).\\\n",
    "#     group_by(Events.Year, Events.Season, Events.Name, Events.Team, Events.NOC).all()"
   ]
  },
  {
   "cell_type": "code",
   "execution_count": null,
   "metadata": {},
   "outputs": [],
   "source": [
    "# # Intermediate table\n",
    "# olympians_team_detail = pd.read_sql_query('SELECT year, season, name, team, NOC FROM events \\\n",
    "# GROUP BY year, season, name, team, NOC',disk_engine)\n",
    "# olympians_team_detail"
   ]
  },
  {
   "cell_type": "code",
   "execution_count": null,
   "metadata": {},
   "outputs": [],
   "source": [
    "# Final table with number of athletes per Event (Year&Season)\n",
    "# olympians_team = olympians_team_detail.groupby(['Year','Season', 'Team', 'NOC']).count()\n",
    "# olympians_team.reset_index(inplace = True)\n",
    "# olympians_team_final = olympians_team.rename(columns = {\"Name\": \"No_olympians\"})"
   ]
  },
  {
   "cell_type": "code",
   "execution_count": null,
   "metadata": {},
   "outputs": [],
   "source": [
    "# Export to sqlite\n",
    "# olympians_team_final.to_sql('olympians_team_final', disk_engine, if_exists='append', index = False)"
   ]
  },
  {
   "cell_type": "code",
   "execution_count": null,
   "metadata": {},
   "outputs": [],
   "source": [
    "# Giving an error - I need to fix it\n",
    "# test2 = session.query(Olympians_Team_Final.Year, Olympians_Team_Final.Season,\\\n",
    "#                         Olympians_Team_Final.Team, Olympians_Team_Final.NOC, Olympians_Team_Final.No_olympians).all()\n"
   ]
  },
  {
   "cell_type": "markdown",
   "metadata": {},
   "source": [
    "<h2> Medals by country / Total Medal count over time / Participating events over time"
   ]
  },
  {
   "cell_type": "code",
   "execution_count": null,
   "metadata": {},
   "outputs": [],
   "source": [
    "# Intermediate table 1\n",
    "# medals_team_detail = pd.read_sql_query('SELECT year, season, sport, event, sex, medal, team, NOC FROM events \\\n",
    "# GROUP BY year, season, sport, event, sex, medal, team, NOC',disk_engine)\n",
    "# medals_team_detail[\"Medal\"].fillna(\"No_medal\", inplace = True) "
   ]
  },
  {
   "cell_type": "code",
   "execution_count": null,
   "metadata": {},
   "outputs": [],
   "source": [
    "# Intermediate table 2 - may be used for visualizations\n",
    "# medals_team = medals_team_detail.groupby(['Year','Season','Team', 'NOC', 'Medal']).count()[['Sport']]\n",
    "# medals_team.reset_index(inplace = True)\n",
    "# medals_team.rename(columns = {\"Sport\": \"#Medals\"}, inplace = True)\n",
    "# medals_team.sort_values(by=[\"#Medals\"], ascending=False)\n",
    "# medals_team.loc[medals_team['Year'] == 1984].sort_values(by=['Year',''\"#Medals\"], ascending=[True, False])"
   ]
  },
  {
   "cell_type": "code",
   "execution_count": null,
   "metadata": {},
   "outputs": [],
   "source": [
    "# Summary table with all the participant countries. Total Medals is sum of G,S&B\n",
    "# If you need a list of medals, check the previous table\n",
    "# medals_team_total = medals_team.pivot_table(index=['Year','Season','Team','NOC'], values = '#Medals', columns='Medal', aggfunc='sum')\n",
    "# medals_team_total.reset_index(inplace = True)\n",
    "# medals_team_total.replace(np.nan,0, inplace = True)\n",
    "# medals_team_total[\"Total_Medals\"] = medals_team_total[\"Bronze\"] + medals_team_total[\"Gold\"] + medals_team_total[\"Silver\"]\n",
    "# medals_team_total.sort_values(by=['Year','Season', 'Total_Medals'], ascending=[True, True, False], inplace = True)\n",
    "# medals_team_total.loc[medals_team_total['Year'] == 1960]"
   ]
  },
  {
   "cell_type": "code",
   "execution_count": null,
   "metadata": {},
   "outputs": [],
   "source": [
    "# Export to sqlite\n",
    "# medals_team_total.to_sql('medals_team_total', disk_engine, if_exists='append', index = False)"
   ]
  },
  {
   "cell_type": "code",
   "execution_count": null,
   "metadata": {},
   "outputs": [],
   "source": [
    "# Giving an error - I need to fix it\n",
    "# test3 = session.query(Medals_Team_Total.Year, Medals_Team_Total.Season, Medals_Team_Total.Team, \\\n",
    "#                       Medals_Team_Total.NOC, Medals_Team_Total.Bronze, Medals_Team_Total.Silver, \\\n",
    "#                       Medals_Team_Total.Gold, Medals_Team_Total.Total_Medals).\\\n",
    "#                     filter(Medals_Team_Total.NOC == 'USA').all()\n",
    "\n"
   ]
  }
 ],
 "metadata": {
  "kernelspec": {
   "display_name": "Python 3",
   "language": "python",
   "name": "python3"
  },
  "language_info": {
   "codemirror_mode": {
    "name": "ipython",
    "version": 3
   },
   "file_extension": ".py",
   "mimetype": "text/x-python",
   "name": "python",
   "nbconvert_exporter": "python",
   "pygments_lexer": "ipython3",
   "version": "3.7.5"
  }
 },
 "nbformat": 4,
 "nbformat_minor": 2
}
