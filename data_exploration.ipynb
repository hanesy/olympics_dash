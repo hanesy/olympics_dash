{
 "cells": [
  {
   "cell_type": "code",
   "execution_count": 64,
   "metadata": {},
   "outputs": [],
   "source": [
    "#import dependencies\n",
    "import warnings\n",
    "warnings.filterwarnings('ignore')\n",
    "import pandas as pd\n",
    "import numpy as np"
   ]
  },
  {
   "cell_type": "code",
   "execution_count": 65,
   "metadata": {},
   "outputs": [],
   "source": [
    "#Load CSV Files\n",
    "\n",
    "# sources: https://www.kaggle.com/heesoo37/120-years-of-olympic-history-athletes-and-results/data#\n",
    "# Data starts in 1896\n",
    "events_file = 'Resources/athlete_events.csv'\n",
    "df_events_orig = pd.read_csv(events_file)\n",
    "\n",
    "# source: World Bank (https://databank.worldbank.org/reports.aspx?source=2&series=NY.GDP.MKTP.CD&country=#) \n",
    "# Data starts in 1960\n",
    "pop_gdp_file = 'Resources/population_gdp.csv'\n",
    "df_pop_gdp_orig = pd.read_csv(pop_gdp_file)"
   ]
  },
  {
   "cell_type": "code",
   "execution_count": 66,
   "metadata": {},
   "outputs": [],
   "source": [
    "# clean worldbank data\n",
    "df_pop_gdp = df_pop_gdp_orig\n",
    "df_pop_gdp = df_pop_gdp.drop(columns = ['Series Code'], axis =1)\n",
    "df_pop_gdp = df_pop_gdp.rename(\n",
    "    columns={\n",
    "        \"Series Name\": \"series_name\", \n",
    "        \"Country Name\": \"country_name\",\n",
    "        \"Country Code\": \"country_code\"})\n",
    "\n",
    "df_pop_gdp.columns = df_pop_gdp.columns.str.split(' ').str[0].tolist()\n",
    "\n",
    "keep_columns = ['series_name', 'country_name', 'country_code']\n",
    "event_years = df_events_orig.Year.unique().astype(str)\n",
    "\n",
    "for i in event_years:\n",
    "    keep_columns.append(i)\n",
    "\n",
    "df_pop_gdp = df_pop_gdp[df_pop_gdp.columns.intersection(keep_columns)]\n",
    "\n",
    "df_gdp = df_pop_gdp.loc[df_pop_gdp[\"series_name\"] == \"GDP (current US$)\"]\n",
    "df_pop = df_pop_gdp.loc[df_pop_gdp[\"series_name\"] == \"Population, total\"]"
   ]
  },
  {
   "cell_type": "code",
   "execution_count": null,
   "metadata": {
    "scrolled": true
   },
   "outputs": [],
   "source": [
    "# clean Olympic NOC and worldbank country_code to match each other\n",
    "\n",
    "# extract WorldBank's country_code and country_name\n",
    "df_worldbanknames = df_pop[[\"country_code\", \"country_name\"]]\n",
    "\n",
    "# create a column with stripped country_name\n",
    "# Sanitize\n",
    "df_worldbanknames['Wclean'] = df_worldbanknames ['country_name'].str.replace(\" \", \"\").str.lower()\n",
    "\n",
    "# create a column with stripped Team name in Olympic Data\n",
    "df_events = df_events_orig\n",
    "# Santize\n",
    "df_events['Oclean'] = df_events ['Team'].str.replace(\" \", \"\").str.lower()\n",
    "\n",
    "# Unique transformations of countries that are in both data bases, but didn't match up.\n",
    "df_events['NOC'] = df_events['NOC'].str.replace(\"IRI\", \"IRN\")\n",
    "df_events['NOC'] = df_events['NOC'].str.replace(\"GER\", \"DEU\")\n",
    "df_events['NOC'] = df_events['NOC'].str.replace(\"BAH\", \"BHS\")\n",
    "df_events['NOC'] = df_events['NOC'].str.replace(\"SUI\", \"CHE\")\n",
    "df_events['NOC'] = df_events['NOC'].str.replace(\"ISV\", \"VIR\")\n",
    "df_events['NOC'] = df_events['NOC'].str.replace(\"GRE\", \"GRC\")\n",
    "df_events['NOC'] = df_events['NOC'].str.replace(\"DEN\", \"DNK\")\n",
    "df_events['NOC'] = df_events['NOC'].str.replace(\"NED\", \"NLD\")\n",
    "df_events['NOC'] = df_events['NOC'].str.replace(\"CGO\", \"COG\")\n",
    "df_events['NOC'] = df_events['NOC'].str.replace(\"LAT\", \"LVA\")\n",
    "df_events['NOC'] = df_events['NOC'].str.replace(\"INA\", \"IDN\")\n",
    "df_events['NOC'] = df_events['NOC'].str.replace(\"GAM\", \"GMB\")\n",
    "df_events['NOC'] = df_events['NOC'].str.replace(\"GBS\", \"GNB\")\n",
    "df_events['NOC'] = df_events['NOC'].str.replace(\"MAS\", \"MYS\")\n",
    "df_events['NOC'] = df_events['NOC'].str.replace(\"NGR\", \"NGA\")\n",
    "df_events['NOC'] = df_events['NOC'].str.replace(\"VIN\", \"VCT\")\n",
    "df_events['NOC'] = df_events['NOC'].str.replace(\"BRU\", \"BRN\")\n",
    "df_events['NOC'] = df_events['NOC'].str.replace(\"SLO\", \"SVN\")\n",
    "df_events['NOC'] = df_events['NOC'].str.replace(\"MRI\", \"MUS\")\n",
    "df_events['NOC'] = df_events['NOC'].str.replace(\"BUL\", \"BGR\")\n",
    "df_events['NOC'] = df_events['NOC'].str.replace(\"PUR\", \"PRI\")\n",
    "df_events['NOC'] = df_events['NOC'].str.replace(\"MON\", \"MCO\")\n",
    "df_events['NOC'] = df_events['NOC'].str.replace(\"SKN\", \"KNA\")\n",
    "\n",
    "\n",
    "# merge by stripped country names and make sure Olympic Data NOC matches WorldBank country_code\n",
    "df_events = pd.merge(df_events, df_worldbanknames, how=\"left\", left_on='Oclean', right_on = 'Wclean')\n",
    "df_events['NOC'] = np.where(df_events['country_code'].isnull() == False, df_events['country_code'], df_events['NOC'])\n",
    "\n",
    "# drop unncessary columns\n",
    "df_events = df_events.drop(columns = ['Oclean', 'country_code', 'country_name', 'Wclean'], axis = 1)\n",
    "\n",
    "# df_events"
   ]
  },
  {
   "cell_type": "code",
   "execution_count": null,
   "metadata": {},
   "outputs": [],
   "source": [
    "### DEBUG TO DISCUSS WITH TEAM ###\n",
    "\n",
    "# Check for items that are not merged\n",
    "checkmerge = pd.merge(df_events, df_worldbanknames, how=\"left\", left_on='NOC', right_on = 'country_code')\n",
    "unmatched = checkmerge[checkmerge['country_code'].isnull()]\n",
    "# mergesuccess = checkmerge[checkmerge['country_code'].isnull() == False]\n",
    "\n",
    "checking = unmatched\n",
    "checking['Year'] = checking['Year'].astype('int')\n",
    "checking = checking.sort_values(\"Year\", ascending = False)\n",
    "\n",
    "clearingbydate = checking\n",
    "\n",
    "# We need to decide how to handle the following cases that are not in the World Bank Database.\n",
    "# We can just keep them in the Olympics Database and note that they don't have GDP information.\n",
    "\n",
    "# latest 2016 participants\n",
    "# Taipei not recognized by WB\n",
    "clearingbydate = clearingbydate[clearingbydate['NOC'].str.contains('TPE') == False]\n",
    "# Individual Olympics\n",
    "clearingbydate = clearingbydate[clearingbydate['NOC'].str.contains('IOA') == False]\n",
    "# Palestine not in world bank\n",
    "clearingbydate = clearingbydate[clearingbydate['NOC'].str.contains('PLE') == False]\n",
    "# Refugee\n",
    "clearingbydate = clearingbydate[clearingbydate['NOC'].str.contains('ROT') == False]\n",
    "# Cook Islands\n",
    "clearingbydate = clearingbydate[clearingbydate['NOC'].str.contains('COK') == False]\n",
    "\n",
    "# latest 2008 participants\n",
    "# Netherlands Antilles\n",
    "clearingbydate = clearingbydate[clearingbydate['NOC'].str.contains('AHO') == False]\n",
    "# Not sure if this is Portugal\n",
    "clearingbydate = clearingbydate[clearingbydate['NOC'].str.contains('POR') == False]\n",
    "\n",
    "# Latest 2006 Participants\n",
    "# Serbia and Montenegro\n",
    "clearingbydate = clearingbydate[clearingbydate['NOC'].str.contains('SCG') == False]\n",
    "\n",
    "# Latest 1992 Participants\n",
    "# bunch of soviet countries that don't exist anymore\n",
    "clearingbydate = clearingbydate[clearingbydate['NOC'].str.contains('TCH') == False]\n",
    "clearingbydate = clearingbydate[clearingbydate['NOC'].str.contains('EUN') == False]\n",
    "clearingbydate = clearingbydate[clearingbydate['NOC'].str.contains('YUG') == False]\n",
    "\n",
    "# Latest 1988 Participants\n",
    "# West and East Germany, Soviet Union\n",
    "clearingbydate = clearingbydate[clearingbydate['NOC'].str.contains('FRG') == False]\n",
    "clearingbydate = clearingbydate[clearingbydate['NOC'].str.contains('GDR') == False]\n",
    "clearingbydate = clearingbydate[clearingbydate['NOC'].str.contains('URS') == False]\n",
    "# the two yemens\n",
    "clearingbydate = clearingbydate[clearingbydate['NOC'].str.contains('YMD') == False]\n",
    "clearingbydate = clearingbydate[clearingbydate['NOC'].str.contains('YAR') == False]\n",
    "\n",
    "# latest 1964\n",
    "clearingbydate = clearingbydate[clearingbydate['NOC'].str.contains('CAM') == False]\n",
    "clearingbydate = clearingbydate[clearingbydate['NOC'].str.contains('BER') == False]\n",
    "clearingbydate = clearingbydate[clearingbydate['NOC'].str.contains('ZIM') == False]\n",
    "clearingbydate = clearingbydate[clearingbydate['NOC'].str.contains('PHI') == False]\n",
    "\n",
    "# clearingbydate"
   ]
  },
  {
   "cell_type": "code",
   "execution_count": null,
   "metadata": {},
   "outputs": [],
   "source": [
    "checking = df_events\n",
    "checking['Year'] = checking['Year'].astype('int')\n",
    "checking = checking.sort_values(\"Year\")\n",
    "# checking[checking['Team'] == \"Bohemia\"]\n",
    "# checking[checking['NOC'] == \"URS\"]\n",
    "# checking"
   ]
  },
  {
   "cell_type": "code",
   "execution_count": null,
   "metadata": {},
   "outputs": [],
   "source": [
    "# unmatched, but before 1960\n",
    "unmatched_valuecounts = clearingbydate['NOC'].value_counts().rename_axis('unique_values').reset_index(name='counts')\n",
    "# unmatched_valuecounts "
   ]
  },
  {
   "cell_type": "code",
   "execution_count": 63,
   "metadata": {},
   "outputs": [],
   "source": [
    "# df_events.head()"
   ]
  },
  {
   "cell_type": "code",
   "execution_count": 8,
   "metadata": {},
   "outputs": [],
   "source": [
    "# df_gdp.head()"
   ]
  },
  {
   "cell_type": "code",
   "execution_count": 9,
   "metadata": {},
   "outputs": [],
   "source": [
    "# df_pop.head()"
   ]
  },
  {
   "cell_type": "code",
   "execution_count": null,
   "metadata": {},
   "outputs": [],
   "source": []
  }
 ],
 "metadata": {
  "kernelspec": {
   "display_name": "Python 3.7.5 64-bit ('PythonData': conda)",
   "language": "python",
   "name": "python37564bitpythondataconda93b4aacbe3a94029a49f9aca4966340b"
  },
  "language_info": {
   "codemirror_mode": {
    "name": "ipython",
    "version": 3
   },
   "file_extension": ".py",
   "mimetype": "text/x-python",
   "name": "python",
   "nbconvert_exporter": "python",
   "pygments_lexer": "ipython3",
   "version": "3.7.5"
  }
 },
 "nbformat": 4,
 "nbformat_minor": 2
}
